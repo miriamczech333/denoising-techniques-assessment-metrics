{
 "cells": [
  {
   "cell_type": "code",
   "execution_count": null,
   "metadata": {},
   "outputs": [],
   "source": [
    "import glob\n",
    "import fnmatch\n",
    "from tifffile import imread\n",
    "\n",
    "#path at which the predicted images are stored \n",
    "path = '/Users/miriamczech/Desktop/denoising_assessment/tiffed_data_beam/EVAL_zoom/noised/'\n",
    "\n",
    "predicted_images = os.listdir(path)\n",
    "predicted_images_len = len(predicted_images)\n",
    "\n",
    "print(len(os.listdir(path)))\n",
    "\n",
    "p = '09'\n",
    "b = '10'\n",
    "\n",
    "images_tensor = glob.glob(os.path.join(path, '{}_{}_*.tif'.format(p,b))\n"
   ]
  }
 ],
 "metadata": {
  "kernelspec": {
   "display_name": "Python 3",
   "language": "python",
   "name": "python3"
  },
  "language_info": {
   "codemirror_mode": {
    "name": "ipython",
    "version": 3
   },
   "file_extension": ".py",
   "mimetype": "text/x-python",
   "name": "python",
   "nbconvert_exporter": "python",
   "pygments_lexer": "ipython3",
   "version": "3.8.5"
  }
 },
 "nbformat": 4,
 "nbformat_minor": 4
}
