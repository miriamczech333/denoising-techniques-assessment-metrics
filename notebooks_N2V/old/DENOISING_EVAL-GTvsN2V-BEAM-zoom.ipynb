{
 "cells": [
  {
   "cell_type": "code",
   "execution_count": 1,
   "metadata": {},
   "outputs": [],
   "source": [
    "import torch\n",
    "from torch import nn\n",
    "import torchvision\n",
    "import matplotlib.pyplot as plt\n",
    "from torch.utils.data import DataLoader\n",
    "\n",
    "import random\n",
    "\n",
    "import numpy as np\n",
    "\n",
    "import matplotlib.cm as cm\n",
    "\n",
    "import pickle\n",
    "\n",
    "import os, sys\n",
    "\n",
    "from denoising_assessment_project.utils import functions\n",
    "\n",
    "# parameters setup \n",
    "from denoising_assessment_project.global_vars import global_vars\n",
    "\n",
    "%matplotlib notebook\n",
    "\n",
    "import os"
   ]
  },
  {
   "cell_type": "code",
   "execution_count": 2,
   "metadata": {},
   "outputs": [],
   "source": [
    "# restoring variables from memory (GT images, indices_eval)\n",
    "%store -r"
   ]
  },
  {
   "cell_type": "code",
   "execution_count": 3,
   "metadata": {
    "scrolled": true
   },
   "outputs": [],
   "source": [
    "# opening GT images \n",
    "with open('/Users/miriamczech/Desktop/denoising_assessment/pickled_data/EVAL/un_noised_images_eval_beam_zoom.pkl', 'rb') as un_noised_images_eval_beam_pickled:\n",
    "    un_noised_images = pickle.load(un_noised_images_eval_beam_pickled)"
   ]
  },
  {
   "cell_type": "code",
   "execution_count": null,
   "metadata": {},
   "outputs": [],
   "source": [
    "# collecting N2V-predicted images into a tensor, ensuring appropriate image loactions relative to GT images\n",
    "import glob\n",
    "import fnmatch\n",
    "from tifffile import imread\n",
    "\n",
    "#path at which the predicted images are stored \n",
    "path = '/Users/miriamczech/Desktop/denoising_assessment/tiffed_data_beam/predictions/N2V_CPU_run'\n",
    "\n",
    "predicted_images = os.listdir(path)\n",
    "predicted_images_len = len(predicted_images)\n",
    "\n",
    "predicted_images_tensor = torch.zeros_like(un_noised_images)\n",
    "for n in range(0,20):\n",
    "    noised_imgs_n_list = glob.glob('/Users/miriamczech/Desktop/denoising_assessment/tiffed_data_beam/predictions/N2V_CPU_run/{}_*_*.tif'.format(n))\n",
    "    for m in range(0,20):\n",
    "        noised_imgs_m_list = fnmatch.filter(noised_imgs_n_list, '/Users/miriamczech/Desktop/denoising_assessment/tiffed_data_beam/predictions/N2V_CPU_run/{}_{}_*.tif'.format(n, m))\n",
    "        for i in range(0,50):\n",
    "            img_i_path = fnmatch.filter(noised_imgs_m_list, '/Users/miriamczech/Desktop/denoising_assessment/tiffed_data_beam/predictions/N2V_CPU_run/{}_{}_{}.tif'.format(n,m,i))[0]\n",
    "            #print(img_i_path)\n",
    "            xy = torch.tensor(imread(img_i_path))\n",
    "            predicted_images_tensor[n,m,i,:,:] = xy\n",
    "            "
   ]
  },
  {
   "cell_type": "code",
   "execution_count": null,
   "metadata": {},
   "outputs": [],
   "source": [
    "# storing the predicted_images_tensor\n",
    "predicted_images_N2V_tensor_beam_pickled = pickle.dump(predicted_images_tensor, open(\"/Users/miriamczech/Desktop/denoising_assessment/pickled_data/EVAL/predicted_images_N2V_tensor_cpu.pkl\", 'wb'), protocol=4)\n",
    "%store predicted_images_N2V_tensor_beam_pickled"
   ]
  },
  {
   "cell_type": "code",
   "execution_count": null,
   "metadata": {},
   "outputs": [],
   "source": [
    "# CARE: -NRMSE-\n",
    "# 4a. Computing NRMSE for each GT-CARE_prediction image pair in the data collection\n",
    "# dims=[m, n, reps]\n",
    "metric_output = functions.NRMSE_compute(un_noised_images, predicted_images_tensor)\n",
    "\n",
    "# 5. Computing statistics for the metric across all n x m sets \n",
    "# dims=[m, n, 2]\n",
    "metric_stats_NRMSE_N2V = functions.set_mean_std_compute(metric_output)"
   ]
  },
  {
   "cell_type": "code",
   "execution_count": null,
   "metadata": {},
   "outputs": [],
   "source": [
    "# CARE: -RMSE-\n",
    "# 4b. Computing RMSE for each image in the data collection\n",
    "# dims=[m, n, reps]\n",
    "metric_output = functions.RMSE_compute(un_noised_images, predicted_images_tensor)\n",
    "\n",
    "#tests \n",
    "print(metric_output.shape)\n",
    "\n",
    "# 5. Computing statistics for the metric across all n x m sets \n",
    "# dims=[m, n, 2]\n",
    "metric_stats_RMSE_N2V = functions.set_mean_std_compute(metric_output)"
   ]
  },
  {
   "cell_type": "code",
   "execution_count": null,
   "metadata": {},
   "outputs": [],
   "source": [
    "# CARE: -PSNR- \n",
    "# 4c. Computing PSNR for each image in the data collection\n",
    "# dims=[m, n, reps]\n",
    "metric_output = functions.PSNR_compute(un_noised_images, predicted_images_tensor)\n",
    "\n",
    "#tests \n",
    "print(metric_output.shape)\n",
    "\n",
    "# 5. Computing statistics for the metric across all n x m sets \n",
    "# dims=[m, n, 2]\n",
    "metric_stats_PSNR_N2V = functions.set_mean_std_compute(metric_output)"
   ]
  },
  {
   "cell_type": "code",
   "execution_count": null,
   "metadata": {},
   "outputs": [],
   "source": [
    "# CARE: -SSIM- \n",
    "# 4c. Computing SSIM for each image in the data collection\n",
    "# dims=[m, n, reps]\n",
    "metric_output = functions.SSIM_compute(un_noised_images, predicted_images_tensor)\n",
    "#tests \n",
    "print(metric_output.shape)\n",
    "\n",
    "# 5. Computing statistics for the metric across all n x m sets \n",
    "# dims=[m, n, 2]\n",
    "metric_stats_SSIM_N2V = functions.set_mean_std_compute(metric_output)"
   ]
  },
  {
   "cell_type": "code",
   "execution_count": null,
   "metadata": {},
   "outputs": [],
   "source": [
    "# CARE: -MS_SSIM-\n",
    "# 4c. Computing MS_SSIM for each image in the data collection\n",
    "# dims=[m, n, reps]\n",
    "metric_output = functions.MS_SSIM_compute(un_noised_images, predicted_images_tensor)\n",
    "#tests \n",
    "print(metric_output.shape)\n",
    "\n",
    "# 5. Computing statistics for the metric across all n x m sets \n",
    "# dims=[m, n, 2]\n",
    "metric_stats_MS_SSIM_N2V = functions.set_mean_std_compute(metric_output)"
   ]
  },
  {
   "cell_type": "code",
   "execution_count": null,
   "metadata": {},
   "outputs": [],
   "source": [
    "%store metric_stats_NRMSE_N2V\n",
    "%store metric_stats_RMSE_N2V\n",
    "%store metric_stats_PSNR_N2V\n",
    "%store metric_stats_SSIM_N2V\n",
    "%store metric_stats_MS_SSIM_N2V"
   ]
  },
  {
   "cell_type": "code",
   "execution_count": null,
   "metadata": {},
   "outputs": [],
   "source": [
    "# CARE: -NRMSE-\n",
    "# 6. plotting obtained stats\n",
    "functions.plot_stats(metric_stats_NRMSE_N2V, indices_eval, 'N2V - NRMSE')"
   ]
  },
  {
   "cell_type": "code",
   "execution_count": null,
   "metadata": {},
   "outputs": [],
   "source": [
    "# CARE: -RMSE-\n",
    "# 6. plotting obtained stats\n",
    "functions.plot_stats(metric_stats_RMSE_N2V, indices_eval, 'N2V - RMSE')"
   ]
  },
  {
   "cell_type": "code",
   "execution_count": null,
   "metadata": {},
   "outputs": [],
   "source": [
    "# CARE: -PSNR-\n",
    "# 6. plotting obtained stats\n",
    "functions.plot_stats(metric_stats_PSNR_N2V, indices_eval, 'N2V - PSNR')"
   ]
  },
  {
   "cell_type": "code",
   "execution_count": null,
   "metadata": {},
   "outputs": [],
   "source": [
    "# CARE: -SSIM-\n",
    "# 6. plotting obtained stats\n",
    "functions.plot_stats(metric_stats_SSIM_N2V, indices_eval, 'N2V - SSIM')"
   ]
  },
  {
   "cell_type": "code",
   "execution_count": null,
   "metadata": {},
   "outputs": [],
   "source": [
    "# CARE: -MS_SSIM-\n",
    "# 6. plotting obtained stats\n",
    "functions.plot_stats(metric_stats_MS_SSIM_N2V, indices_eval, 'N2V - MS_SSIM')"
   ]
  },
  {
   "cell_type": "code",
   "execution_count": null,
   "metadata": {},
   "outputs": [],
   "source": []
  }
 ],
 "metadata": {
  "kernelspec": {
   "display_name": "Python 3",
   "language": "python",
   "name": "python3"
  },
  "language_info": {
   "codemirror_mode": {
    "name": "ipython",
    "version": 3
   },
   "file_extension": ".py",
   "mimetype": "text/x-python",
   "name": "python",
   "nbconvert_exporter": "python",
   "pygments_lexer": "ipython3",
   "version": "3.8.5"
  }
 },
 "nbformat": 4,
 "nbformat_minor": 4
}
